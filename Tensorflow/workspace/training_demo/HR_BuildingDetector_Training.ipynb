{
  "nbformat": 4,
  "nbformat_minor": 0,
  "metadata": {
    "colab": {
      "name": "HR_BuildingDetector_Training.ipynb",
      "provenance": [],
      "authorship_tag": "ABX9TyOnO10S55+kDP3F2O/Rx4Y2",
      "include_colab_link": true
    },
    "kernelspec": {
      "name": "python3",
      "display_name": "Python 3"
    },
    "language_info": {
      "name": "python"
    }
  },
  "cells": [
    {
      "cell_type": "markdown",
      "metadata": {
        "id": "view-in-github",
        "colab_type": "text"
      },
      "source": [
        "<a href=\"https://colab.research.google.com/github/lheinzel/UAVHRBuildingDetection/blob/master/Tensorflow/workspace/training_demo/HR_BuildingDetector_Training.ipynb\" target=\"_parent\"><img src=\"https://colab.research.google.com/assets/colab-badge.svg\" alt=\"Open In Colab\"/></a>"
      ]
    },
    {
      "cell_type": "code",
      "execution_count": null,
      "metadata": {
        "id": "fttRnfeHNvgq"
      },
      "outputs": [],
      "source": [
        ""
      ]
    }
  ]
}